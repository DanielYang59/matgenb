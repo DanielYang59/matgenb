{
 "cells": [
  {
   "cell_type": "markdown",
   "metadata": {},
   "source": [
    "# Generate VASP Inputs for Structure Relaxation"
   ]
  },
  {
   "cell_type": "code",
   "execution_count": 1,
   "metadata": {},
   "outputs": [],
   "source": [
    "# Uncomment the subsequent lines in this cell to install dependencies for Google Colab.\n",
    "# !pip install pymatgen==2022.7.19"
   ]
  },
  {
   "cell_type": "code",
   "execution_count": 2,
   "metadata": {},
   "outputs": [],
   "source": [
    "from pymatgen.core import Structure\n",
    "from pymatgen.io.vasp.sets import MPRelaxSet\n",
    "\n",
    "s = Structure.from_file(\"Si.cif\", primitive=True)\n",
    "custom_settings = {\"NELMIN\": 5}  # user custom incar settings\n",
    "relax = MPRelaxSet(s, user_incar_settings=custom_settings)\n",
    "relax.write_input(\"Si-relax\")"
   ]
  },
  {
   "cell_type": "markdown",
   "metadata": {},
   "source": [
    "## Get total energy and relaxed structure"
   ]
  },
  {
   "cell_type": "code",
   "execution_count": 3,
   "metadata": {},
   "outputs": [
    {
     "ename": "FileNotFoundError",
     "evalue": "[Errno 2] No such file or directory: 'Si-relax/vasprun.xml'",
     "output_type": "error",
     "traceback": [
      "\u001b[0;31m---------------------------------------------------------------------------\u001b[0m",
      "\u001b[0;31mFileNotFoundError\u001b[0m                         Traceback (most recent call last)",
      "Cell \u001b[0;32mIn[3], line 3\u001b[0m\n\u001b[1;32m      1\u001b[0m \u001b[38;5;28;01mfrom\u001b[39;00m \u001b[38;5;21;01mpymatgen\u001b[39;00m\u001b[38;5;21;01m.\u001b[39;00m\u001b[38;5;21;01mio\u001b[39;00m\u001b[38;5;21;01m.\u001b[39;00m\u001b[38;5;21;01mvasp\u001b[39;00m \u001b[38;5;28;01mimport\u001b[39;00m Vasprun\n\u001b[0;32m----> 3\u001b[0m v \u001b[38;5;241m=\u001b[39m \u001b[43mVasprun\u001b[49m\u001b[43m(\u001b[49m\u001b[38;5;124;43m\"\u001b[39;49m\u001b[38;5;124;43mSi-relax/vasprun.xml\u001b[39;49m\u001b[38;5;124;43m\"\u001b[39;49m\u001b[43m)\u001b[49m\n\u001b[1;32m      4\u001b[0m \u001b[38;5;28mprint\u001b[39m(v\u001b[38;5;241m.\u001b[39mfinal_energy)  \u001b[38;5;66;03m# final total energy\u001b[39;00m\n\u001b[1;32m      5\u001b[0m s \u001b[38;5;241m=\u001b[39m v\u001b[38;5;241m.\u001b[39mfinal_structure\n",
      "File \u001b[0;32m~/miniconda3/envs/mavrl/lib/python3.11/site-packages/pymatgen/io/vasp/outputs.py:310\u001b[0m, in \u001b[0;36mVasprun.__init__\u001b[0;34m(self, filename, ionic_step_skip, ionic_step_offset, parse_dos, parse_eigen, parse_projected_eigen, parse_potcar_file, occu_tol, separate_spins, exception_on_bad_xml)\u001b[0m\n\u001b[1;32m    307\u001b[0m \u001b[38;5;28mself\u001b[39m\u001b[38;5;241m.\u001b[39mseparate_spins \u001b[38;5;241m=\u001b[39m separate_spins\n\u001b[1;32m    308\u001b[0m \u001b[38;5;28mself\u001b[39m\u001b[38;5;241m.\u001b[39mexception_on_bad_xml \u001b[38;5;241m=\u001b[39m exception_on_bad_xml\n\u001b[0;32m--> 310\u001b[0m \u001b[38;5;28;01mwith\u001b[39;00m \u001b[43mzopen\u001b[49m\u001b[43m(\u001b[49m\u001b[43mfilename\u001b[49m\u001b[43m,\u001b[49m\u001b[43m \u001b[49m\u001b[43mmode\u001b[49m\u001b[38;5;241;43m=\u001b[39;49m\u001b[38;5;124;43m\"\u001b[39;49m\u001b[38;5;124;43mrt\u001b[39;49m\u001b[38;5;124;43m\"\u001b[39;49m\u001b[43m)\u001b[49m \u001b[38;5;28;01mas\u001b[39;00m file:\n\u001b[1;32m    311\u001b[0m     \u001b[38;5;28;01mif\u001b[39;00m ionic_step_skip \u001b[38;5;129;01mor\u001b[39;00m ionic_step_offset:\n\u001b[1;32m    312\u001b[0m         \u001b[38;5;66;03m# Remove parts of the xml file and parse the string\u001b[39;00m\n\u001b[1;32m    313\u001b[0m         content: \u001b[38;5;28mstr\u001b[39m \u001b[38;5;241m=\u001b[39m file\u001b[38;5;241m.\u001b[39mread()\n",
      "File \u001b[0;32m~/miniconda3/envs/mavrl/lib/python3.11/site-packages/monty/io.py:54\u001b[0m, in \u001b[0;36mzopen\u001b[0;34m(filename, *args, **kwargs)\u001b[0m\n\u001b[1;32m     52\u001b[0m \u001b[38;5;28;01mif\u001b[39;00m (lzma \u001b[38;5;129;01mis\u001b[39;00m \u001b[38;5;129;01mnot\u001b[39;00m \u001b[38;5;28;01mNone\u001b[39;00m) \u001b[38;5;129;01mand\u001b[39;00m (ext \u001b[38;5;129;01min\u001b[39;00m (\u001b[38;5;124m\"\u001b[39m\u001b[38;5;124m.XZ\u001b[39m\u001b[38;5;124m\"\u001b[39m, \u001b[38;5;124m\"\u001b[39m\u001b[38;5;124m.LZMA\u001b[39m\u001b[38;5;124m\"\u001b[39m)):\n\u001b[1;32m     53\u001b[0m     \u001b[38;5;28;01mreturn\u001b[39;00m lzma\u001b[38;5;241m.\u001b[39mopen(filename, \u001b[38;5;241m*\u001b[39margs, \u001b[38;5;241m*\u001b[39m\u001b[38;5;241m*\u001b[39mkwargs)\n\u001b[0;32m---> 54\u001b[0m \u001b[38;5;28;01mreturn\u001b[39;00m \u001b[38;5;28;43mopen\u001b[39;49m\u001b[43m(\u001b[49m\u001b[43mfilename\u001b[49m\u001b[43m,\u001b[49m\u001b[43m \u001b[49m\u001b[38;5;241;43m*\u001b[39;49m\u001b[43margs\u001b[49m\u001b[43m,\u001b[49m\u001b[43m \u001b[49m\u001b[38;5;241;43m*\u001b[39;49m\u001b[38;5;241;43m*\u001b[39;49m\u001b[43mkwargs\u001b[49m\u001b[43m)\u001b[49m\n",
      "\u001b[0;31mFileNotFoundError\u001b[0m: [Errno 2] No such file or directory: 'Si-relax/vasprun.xml'"
     ]
    }
   ],
   "source": [
    "from pymatgen.io.vasp import Vasprun\n",
    "\n",
    "v = Vasprun(\"Si-relax/vasprun.xml\")\n",
    "print(v.final_energy)  # final total energy\n",
    "s = v.final_structure\n",
    "s.to(filename=\"Si-relax.cif\")  # save relaxed structure into cif file\n",
    "print(s)  # relaxed structure"
   ]
  },
  {
   "cell_type": "markdown",
   "metadata": {},
   "source": [
    "# Generate VASP Input for Static Run"
   ]
  },
  {
   "cell_type": "code",
   "execution_count": null,
   "metadata": {},
   "outputs": [],
   "source": [
    "from pymatgen.io.vasp.sets import MPStaticSet\n",
    "\n",
    "custom_settings = {\"NELM\": 60}  # user custom incar settings\n",
    "static = MPStaticSet.from_prev_calc(\n",
    "    \"Si-relax/\", standardize=True, user_incar_settings=custom_settings\n",
    ")\n",
    "static.write_input(\"Si-static\")"
   ]
  },
  {
   "cell_type": "markdown",
   "metadata": {},
   "source": [
    "## Get total energy from static run"
   ]
  },
  {
   "cell_type": "code",
   "execution_count": null,
   "metadata": {},
   "outputs": [],
   "source": [
    "from pymatgen.io.vasp import Vasprun\n",
    "\n",
    "v = Vasprun(\"Si-static/vasprun.xml\")\n",
    "print(v.final_energy)  # final total energy"
   ]
  },
  {
   "cell_type": "markdown",
   "metadata": {},
   "source": [
    "# Generate VASP Input for Density of State(DOS) and Band Structure(BS) calculation"
   ]
  },
  {
   "cell_type": "code",
   "execution_count": null,
   "metadata": {},
   "outputs": [],
   "source": [
    "from pymatgen.io.vasp.sets import MPNonSCFSet\n",
    "\n",
    "# generate uniform k-points for DOS calc.\n",
    "custom_settings = {\"LAECHG\": \"False\", \"LVHAR\": \"False\"}  # user custom incar settings\n",
    "dos = MPNonSCFSet.from_prev_calc(\n",
    "    \"Si-static/\",\n",
    "    mode=\"uniform\",\n",
    "    reciprocal_density=200,\n",
    "    user_incar_settings=custom_settings,\n",
    ")\n",
    "dos.write_input(\"Si-dos\")\n",
    "\n",
    "# generate k-points along high symmetry line for band structure calc.\n",
    "band = MPNonSCFSet.from_prev_calc(\n",
    "    \"Si-static/\", mode=\"line\", standardize=True, user_incar_settings=custom_settings\n",
    ")\n",
    "band.write_input(\"Si-band\")"
   ]
  },
  {
   "cell_type": "markdown",
   "metadata": {},
   "source": [
    "## Plot Total DOS"
   ]
  },
  {
   "cell_type": "code",
   "execution_count": null,
   "metadata": {},
   "outputs": [],
   "source": [
    "%matplotlib inline\n",
    "from pymatgen.electronic_structure.plotter import DosPlotter\n",
    "from pymatgen.io.vasp import Vasprun\n",
    "\n",
    "v = Vasprun(\"Si-dos/vasprun.xml\")\n",
    "tdos = v.tdos\n",
    "plotter = DosPlotter()\n",
    "plotter.add_dos(\"Total DOS\", tdos)\n",
    "plotter.show(xlim=[-5, 5], ylim=[0, 4])"
   ]
  },
  {
   "cell_type": "markdown",
   "metadata": {},
   "source": [
    "## Plot element-projected DOS"
   ]
  },
  {
   "cell_type": "code",
   "execution_count": null,
   "metadata": {},
   "outputs": [],
   "source": [
    "%matplotlib inline\n",
    "from pymatgen.electronic_structure.plotter import DosPlotter\n",
    "from pymatgen.io.vasp import Vasprun\n",
    "\n",
    "v = Vasprun(\"Si-dos/vasprun.xml\")\n",
    "cdos = v.complete_dos\n",
    "element_dos = cdos.get_element_dos()\n",
    "plotter = DosPlotter()\n",
    "plotter.add_dos_dict(element_dos)\n",
    "plotter.show(xlim=[-5, 5], ylim=[0, 1])"
   ]
  },
  {
   "cell_type": "markdown",
   "metadata": {},
   "source": [
    "## Plot orbital-projected DOS"
   ]
  },
  {
   "cell_type": "code",
   "execution_count": null,
   "metadata": {},
   "outputs": [],
   "source": [
    "%matplotlib inline\n",
    "from pymatgen.electronic_structure.plotter import DosPlotter\n",
    "from pymatgen.io.vasp import Vasprun\n",
    "\n",
    "v = Vasprun(\"Si-dos/vasprun.xml\")\n",
    "cdos = v.complete_dos\n",
    "spd_dos = cdos.get_spd_dos()\n",
    "plotter = DosPlotter()\n",
    "plotter.add_dos_dict(spd_dos)\n",
    "plotter.show(xlim=[-5, 5], ylim=[0, 1])"
   ]
  },
  {
   "cell_type": "markdown",
   "metadata": {},
   "source": [
    "# Plot BS"
   ]
  },
  {
   "cell_type": "code",
   "execution_count": null,
   "metadata": {},
   "outputs": [],
   "source": [
    "%matplotlib inline\n",
    "from pymatgen.electronic_structure.plotter import BSPlotter\n",
    "from pymatgen.io.vasp import BSVasprun, Vasprun\n",
    "\n",
    "v = BSVasprun(\"Si-band/vasprun.xml\")\n",
    "bs = v.get_band_structure(kpoints_filename=\"Si-band/KPOINTS\", line_mode=True)\n",
    "plt = BSPlotter(bs)\n",
    "plt.get_plot(vbm_cbm_marker=True)"
   ]
  }
 ],
 "metadata": {
  "kernelspec": {
   "display_name": "Python 3 (ipykernel)",
   "language": "python",
   "name": "python3"
  },
  "language_info": {
   "codemirror_mode": {
    "name": "ipython",
    "version": 3
   },
   "file_extension": ".py",
   "mimetype": "text/x-python",
   "name": "python",
   "nbconvert_exporter": "python",
   "pygments_lexer": "ipython3",
   "version": "3.11.5"
  }
 },
 "nbformat": 4,
 "nbformat_minor": 1
}
