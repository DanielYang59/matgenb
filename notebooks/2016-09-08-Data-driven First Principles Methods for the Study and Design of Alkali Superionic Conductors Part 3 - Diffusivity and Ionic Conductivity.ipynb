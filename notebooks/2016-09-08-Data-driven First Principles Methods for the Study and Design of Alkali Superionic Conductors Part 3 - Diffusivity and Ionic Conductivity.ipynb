{
 "cells": [
  {
   "cell_type": "markdown",
   "metadata": {},
   "source": [
    "# Introduction\n",
    "\n",
    "This notebook demonstrates how to perform diffusivity and ionic conductivity analyses starting from a series of VASP AIMD simulations using Python Materials Genomics (pymatgen) and its add-on package pymatgen-analysis-diffusion. These notebooks are described in detail in\n",
    "\n",
    "    Deng, Z.; Zhu, Z.; Chu, I.-H.; Ong, S. P. Data-Driven First-Principles Methods for the Study and Design of \n",
    "    Alkali Superionic Conductors. Chem. Mater. 2017, 29 (1), 281–288 DOI: 10.1021/acs.chemmater.6b02648.\n",
    "    \n",
    "If you find these notebooks useful and use the functionality demonstrated, please consider citing the above work.\n",
    "\n",
    "Let's start by importing some modules and classes that we will be using."
   ]
  },
  {
   "cell_type": "code",
   "execution_count": 1,
   "metadata": {},
   "outputs": [],
   "source": [
    "# Uncomment the subsequent lines in this cell to install dependencies for Google Colab.\n",
    "# !pip install pymatgen==2022.7.19 pymatgen-analysis-diffusion"
   ]
  },
  {
   "cell_type": "code",
   "execution_count": 2,
   "metadata": {},
   "outputs": [
    {
     "ename": "ModuleNotFoundError",
     "evalue": "No module named 'pymatgen.analysis.diffusion.analyzer'",
     "output_type": "error",
     "traceback": [
      "\u001b[0;31m---------------------------------------------------------------------------\u001b[0m",
      "\u001b[0;31mModuleNotFoundError\u001b[0m                       Traceback (most recent call last)",
      "Cell \u001b[0;32mIn[2], line 11\u001b[0m\n\u001b[1;32m      9\u001b[0m \u001b[38;5;28;01mfrom\u001b[39;00m \u001b[38;5;21;01mpymatgen\u001b[39;00m\u001b[38;5;21;01m.\u001b[39;00m\u001b[38;5;21;01manalysis\u001b[39;00m\u001b[38;5;21;01m.\u001b[39;00m\u001b[38;5;21;01mdiffusion\u001b[39;00m\u001b[38;5;21;01m.\u001b[39;00m\u001b[38;5;21;01maimd\u001b[39;00m\u001b[38;5;21;01m.\u001b[39;00m\u001b[38;5;21;01mpathway\u001b[39;00m \u001b[38;5;28;01mimport\u001b[39;00m ProbabilityDensityAnalysis\n\u001b[1;32m     10\u001b[0m \u001b[38;5;28;01mfrom\u001b[39;00m \u001b[38;5;21;01mpymatgen\u001b[39;00m\u001b[38;5;21;01m.\u001b[39;00m\u001b[38;5;21;01manalysis\u001b[39;00m\u001b[38;5;21;01m.\u001b[39;00m\u001b[38;5;21;01mdiffusion\u001b[39;00m\u001b[38;5;21;01m.\u001b[39;00m\u001b[38;5;21;01maimd\u001b[39;00m\u001b[38;5;21;01m.\u001b[39;00m\u001b[38;5;21;01mvan_hove\u001b[39;00m \u001b[38;5;28;01mimport\u001b[39;00m VanHoveAnalysis\n\u001b[0;32m---> 11\u001b[0m \u001b[38;5;28;01mfrom\u001b[39;00m \u001b[38;5;21;01mpymatgen\u001b[39;00m\u001b[38;5;21;01m.\u001b[39;00m\u001b[38;5;21;01manalysis\u001b[39;00m\u001b[38;5;21;01m.\u001b[39;00m\u001b[38;5;21;01mdiffusion\u001b[39;00m\u001b[38;5;21;01m.\u001b[39;00m\u001b[38;5;21;01manalyzer\u001b[39;00m \u001b[38;5;28;01mimport\u001b[39;00m (\n\u001b[1;32m     12\u001b[0m     DiffusionAnalyzer,\n\u001b[1;32m     13\u001b[0m     get_arrhenius_plot,\n\u001b[1;32m     14\u001b[0m     get_extrapolated_conductivity,\n\u001b[1;32m     15\u001b[0m )\n\u001b[1;32m     16\u001b[0m \u001b[38;5;28;01mfrom\u001b[39;00m \u001b[38;5;21;01mpymatgen\u001b[39;00m\u001b[38;5;21;01m.\u001b[39;00m\u001b[38;5;21;01mcore\u001b[39;00m \u001b[38;5;28;01mimport\u001b[39;00m Structure\n",
      "\u001b[0;31mModuleNotFoundError\u001b[0m: No module named 'pymatgen.analysis.diffusion.analyzer'"
     ]
    }
   ],
   "source": [
    "from IPython.display import Image\n",
    "\n",
    "%matplotlib inline\n",
    "\n",
    "import collections\n",
    "import json\n",
    "\n",
    "import matplotlib.pyplot as plt\n",
    "from pymatgen.analysis.diffusion.aimd.pathway import ProbabilityDensityAnalysis\n",
    "from pymatgen.analysis.diffusion.aimd.van_hove import VanHoveAnalysis\n",
    "from pymatgen.analysis.diffusion.analyzer import (\n",
    "    DiffusionAnalyzer,\n",
    "    get_arrhenius_plot,\n",
    "    get_extrapolated_conductivity,\n",
    ")\n",
    "from pymatgen.core import Structure"
   ]
  },
  {
   "cell_type": "markdown",
   "metadata": {},
   "source": [
    "# Preparation\n",
    "\n",
    "The *DiffusionAnalyzer* class in pymatgen can be instantiated from a supplied list of sequential vasprun.xml output files from the AIMD simulations. An example code (commented out) is shown below."
   ]
  },
  {
   "cell_type": "code",
   "execution_count": null,
   "metadata": {},
   "outputs": [],
   "source": [
    "# files = [\"run1/vasprun.xml\", \"run2/vasprun.xml\", \"run3/vasprun.xml\"]\n",
    "# analyzer = DiffusionAnalyzer.from_files(files, specie=\"Li\", smoothed=False)"
   ]
  },
  {
   "cell_type": "markdown",
   "metadata": {},
   "source": [
    "In this work, all trajectories are stored in an efficient document-based MongoDB database. The format of the documents in the database is a binary JSON format. Here, we will instead instantiate the *DiffusionAnalyzer* from a pre-serialized *DiffusionAnalyzer* for each temperature."
   ]
  },
  {
   "cell_type": "code",
   "execution_count": null,
   "metadata": {},
   "outputs": [],
   "source": [
    "temperatures = [600, 800, 1000, 1200]\n",
    "analyzers = collections.OrderedDict()\n",
    "for temp in temperatures:\n",
    "    with open(\"aimd_data/%d.json\" % temp) as f:\n",
    "        d = json.load(f)\n",
    "        analyzers[temp] = DiffusionAnalyzer.from_dict(d)"
   ]
  },
  {
   "cell_type": "markdown",
   "metadata": {},
   "source": [
    "# MSD vs time plot\n",
    "\n",
    "For each temperature, we can plot the mean square displacement against time as follows (only 1000 K shown)."
   ]
  },
  {
   "cell_type": "code",
   "execution_count": null,
   "metadata": {},
   "outputs": [],
   "source": [
    "plt = analyzers[1000].get_msd_plot()\n",
    "title = plt.title(\"1000K\", fontsize=24)"
   ]
  },
  {
   "cell_type": "markdown",
   "metadata": {},
   "source": [
    "# Activation energy and ionic conductivity\n",
    "\n",
    "From diffusivity at each temperature, we can obtain activation energy and room temperature ionic conductivity by constructing an Arrhenius plot. "
   ]
  },
  {
   "cell_type": "code",
   "execution_count": null,
   "metadata": {},
   "outputs": [],
   "source": [
    "diffusivities = [d.diffusivity for d in analyzers.values()]\n",
    "\n",
    "plt = get_arrhenius_plot(temperatures, diffusivities)"
   ]
  },
  {
   "cell_type": "markdown",
   "metadata": {},
   "source": [
    "From the temperatures and diffusivities, one may obtained the extrapolated room-temperature conductivity as follows."
   ]
  },
  {
   "cell_type": "code",
   "execution_count": null,
   "metadata": {},
   "outputs": [],
   "source": [
    "rts = get_extrapolated_conductivity(\n",
    "    temperatures,\n",
    "    diffusivities,\n",
    "    new_temp=300,\n",
    "    structure=analyzers[800].structure,\n",
    "    species=\"Li\",\n",
    ")\n",
    "print(\"The Li ionic conductivity for Li6PS5Cl at 300 K is %.4f mS/cm\" % rts)"
   ]
  },
  {
   "cell_type": "markdown",
   "metadata": {},
   "source": [
    "# Probability density function analysis\n",
    "\n",
    "We can compute the probability density function from the AIMD trajectories using the *ProbabilityDensityAnalysis* class implemented in the pymatgen-diffusion add-on. We will use the calculation at 800K as an example. The probability density function can then be output to a CHGCAR-like file for visualization in VESTA."
   ]
  },
  {
   "cell_type": "code",
   "execution_count": null,
   "metadata": {},
   "outputs": [],
   "source": [
    "structure = analyzers[800].structure\n",
    "trajectories = [s.frac_coords for s in analyzers[800].get_drift_corrected_structures()]\n",
    "pda = ProbabilityDensityAnalysis(structure, trajectories, species=\"Li\")\n",
    "pda.to_chgcar(\n",
    "    \"aimd_data/CHGCAR.vasp\"\n",
    ")  # Output to a CHGCAR-like file for visualization in VESTA."
   ]
  },
  {
   "cell_type": "markdown",
   "metadata": {},
   "source": [
    "The VESTA visualization software can be used to visualize isosurfaces in the probability density. The 800K probability density function at an isosurface of 0.002 is shown below."
   ]
  },
  {
   "cell_type": "code",
   "execution_count": null,
   "metadata": {},
   "outputs": [],
   "source": [
    "Image(filename=\"aimd_data/Isosurface_800K_0.png\")"
   ]
  },
  {
   "cell_type": "markdown",
   "metadata": {},
   "source": [
    "# van Hove correlation function analysis\n",
    "\n",
    "We can compute the van Hove correlation function from a *DiffusionAnalyzer* using the *VanHoveAnalysis* class implemented in the pymatgen-diffusion add-on. We will use the calculation at 800K as an example. "
   ]
  },
  {
   "cell_type": "code",
   "execution_count": null,
   "metadata": {},
   "outputs": [],
   "source": [
    "vha = VanHoveAnalysis(analyzers[800])"
   ]
  },
  {
   "cell_type": "markdown",
   "metadata": {},
   "source": [
    "We can then plot the self ($G_s$) and distinct ($G_d$) parts of the van Hove correlation function as follows."
   ]
  },
  {
   "cell_type": "code",
   "execution_count": null,
   "metadata": {},
   "outputs": [],
   "source": [
    "vha.get_3d_plot(mode=\"self\")\n",
    "vha.get_3d_plot(mode=\"distinct\")"
   ]
  }
 ],
 "metadata": {
  "kernelspec": {
   "display_name": "Python 3 (ipykernel)",
   "language": "python",
   "name": "python3"
  },
  "language_info": {
   "codemirror_mode": {
    "name": "ipython",
    "version": 3
   },
   "file_extension": ".py",
   "mimetype": "text/x-python",
   "name": "python",
   "nbconvert_exporter": "python",
   "pygments_lexer": "ipython3",
   "version": "3.11.5"
  }
 },
 "nbformat": 4,
 "nbformat_minor": 1
}
