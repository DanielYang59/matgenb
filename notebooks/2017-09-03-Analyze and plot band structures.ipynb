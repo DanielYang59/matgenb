{
 "cells": [
  {
   "cell_type": "markdown",
   "metadata": {},
   "source": [
    "This notebook shows some examples of methods on a BandStructureSymmLine object (gettting band gaps, VBM, etc...) and basic plotting. Written by Geoffroy Hautier (geoffroy.hautier@uclouvain.be)"
   ]
  },
  {
   "cell_type": "markdown",
   "metadata": {},
   "source": [
    "We start by querying the MP database for a band structure object. Please note that you could get such an object from a run (VASP, ABINIT, ...) using the methods in pymatgen.io\n"
   ]
  },
  {
   "cell_type": "code",
   "execution_count": null,
   "metadata": {},
   "outputs": [
    {
     "name": "stdout",
     "output_type": "stream",
     "text": [
      "Looking in indexes: https://pypi.tuna.tsinghua.edu.cn/simple\n",
      "Collecting mp_api\n",
      "  Using cached https://pypi.tuna.tsinghua.edu.cn/packages/9c/5f/3a14476d076019bd22557ffb9a0387546d671cbbf360661fbca55543488f/mp_api-0.43.0-py3-none-any.whl (97 kB)\n",
      "Requirement already satisfied: pymatgen in /Users/yang/developer/matgenb/venv312/lib/python3.12/site-packages (2024.11.13)\n",
      "Requirement already satisfied: setuptools in /Users/yang/developer/matgenb/venv312/lib/python3.12/site-packages (from mp_api) (75.6.0)\n",
      "Requirement already satisfied: msgpack in /Users/yang/developer/matgenb/venv312/lib/python3.12/site-packages (from mp_api) (1.1.0)\n",
      "Requirement already satisfied: maggma>=0.57.1 in /Users/yang/developer/matgenb/venv312/lib/python3.12/site-packages (from mp_api) (0.70.0)\n",
      "Requirement already satisfied: typing-extensions>=3.7.4.1 in /Users/yang/developer/matgenb/venv312/lib/python3.12/site-packages (from mp_api) (4.12.2)\n",
      "Requirement already satisfied: requests>=2.23.0 in /Users/yang/developer/matgenb/venv312/lib/python3.12/site-packages (from mp_api) (2.32.3)\n",
      "Requirement already satisfied: monty>=2023.9.25 in /Users/yang/developer/matgenb/venv312/lib/python3.12/site-packages (from mp_api) (2024.10.21)\n",
      "Requirement already satisfied: emmet-core>=0.78.0rc3 in /Users/yang/developer/matgenb/venv312/lib/python3.12/site-packages (from mp_api) (0.84.3rc6)\n",
      "Requirement already satisfied: smart_open in /Users/yang/developer/matgenb/venv312/lib/python3.12/site-packages (from mp_api) (7.0.5)\n",
      "Requirement already satisfied: joblib>=1 in /Users/yang/developer/matgenb/venv312/lib/python3.12/site-packages (from pymatgen) (1.4.2)\n",
      "Requirement already satisfied: matplotlib>=3.8 in /Users/yang/developer/matgenb/venv312/lib/python3.12/site-packages (from pymatgen) (3.9.3)\n",
      "Requirement already satisfied: networkx>=2.7 in /Users/yang/developer/matgenb/venv312/lib/python3.12/site-packages (from pymatgen) (3.4.2)\n",
      "Requirement already satisfied: palettable>=3.3.3 in /Users/yang/developer/matgenb/venv312/lib/python3.12/site-packages (from pymatgen) (3.3.3)\n",
      "Requirement already satisfied: pandas>=2 in /Users/yang/developer/matgenb/venv312/lib/python3.12/site-packages (from pymatgen) (2.2.3)\n",
      "Requirement already satisfied: plotly>=4.5.0 in /Users/yang/developer/matgenb/venv312/lib/python3.12/site-packages (from pymatgen) (5.24.1)\n",
      "Requirement already satisfied: pybtex>=0.24.0 in /Users/yang/developer/matgenb/venv312/lib/python3.12/site-packages (from pymatgen) (0.24.0)\n",
      "Requirement already satisfied: ruamel.yaml>=0.17.0 in /Users/yang/developer/matgenb/venv312/lib/python3.12/site-packages (from pymatgen) (0.18.6)\n",
      "Requirement already satisfied: scipy>=1.13.0 in /Users/yang/developer/matgenb/venv312/lib/python3.12/site-packages (from pymatgen) (1.14.1)\n",
      "Requirement already satisfied: spglib>=2.5.0 in /Users/yang/developer/matgenb/venv312/lib/python3.12/site-packages (from pymatgen) (2.5.0)\n",
      "Requirement already satisfied: sympy>=1.3 in /Users/yang/developer/matgenb/venv312/lib/python3.12/site-packages (from pymatgen) (1.13.3)\n",
      "Requirement already satisfied: tabulate>=0.9 in /Users/yang/developer/matgenb/venv312/lib/python3.12/site-packages (from pymatgen) (0.9.0)\n",
      "Requirement already satisfied: tqdm>=4.60 in /Users/yang/developer/matgenb/venv312/lib/python3.12/site-packages (from pymatgen) (4.67.1)\n",
      "Requirement already satisfied: uncertainties>=3.1.4 in /Users/yang/developer/matgenb/venv312/lib/python3.12/site-packages (from pymatgen) (3.2.2)\n",
      "Requirement already satisfied: numpy<3,>=1.25.0 in /Users/yang/developer/matgenb/venv312/lib/python3.12/site-packages (from pymatgen) (1.26.4)\n",
      "Requirement already satisfied: pydantic>=2.0 in /Users/yang/developer/matgenb/venv312/lib/python3.12/site-packages (from emmet-core>=0.78.0rc3->mp_api) (2.10.3)\n",
      "Requirement already satisfied: pydantic-settings>=2.0 in /Users/yang/developer/matgenb/venv312/lib/python3.12/site-packages (from emmet-core>=0.78.0rc3->mp_api) (2.6.1)\n",
      "Requirement already satisfied: pymongo>=4.2.0 in /Users/yang/developer/matgenb/venv312/lib/python3.12/site-packages (from maggma>=0.57.1->mp_api) (4.10.1)\n",
      "Requirement already satisfied: mongomock>=3.10.0 in /Users/yang/developer/matgenb/venv312/lib/python3.12/site-packages (from maggma>=0.57.1->mp_api) (4.3.0)\n",
      "Requirement already satisfied: pydash>=4.1.0 in /Users/yang/developer/matgenb/venv312/lib/python3.12/site-packages (from maggma>=0.57.1->mp_api) (8.0.4)\n",
      "Requirement already satisfied: jsonschema>=3.1.1 in /Users/yang/developer/matgenb/venv312/lib/python3.12/site-packages (from maggma>=0.57.1->mp_api) (4.23.0)\n",
      "Requirement already satisfied: jsonlines>=4.0.0 in /Users/yang/developer/matgenb/venv312/lib/python3.12/site-packages (from maggma>=0.57.1->mp_api) (4.0.0)\n",
      "Requirement already satisfied: aioitertools>=0.5.1 in /Users/yang/developer/matgenb/venv312/lib/python3.12/site-packages (from maggma>=0.57.1->mp_api) (0.12.0)\n",
      "Requirement already satisfied: pyzmq>=25.1.1 in /Users/yang/developer/matgenb/venv312/lib/python3.12/site-packages (from maggma>=0.57.1->mp_api) (26.2.0)\n",
      "Requirement already satisfied: dnspython>=1.16.0 in /Users/yang/developer/matgenb/venv312/lib/python3.12/site-packages (from maggma>=0.57.1->mp_api) (2.7.0)\n",
      "Requirement already satisfied: sshtunnel>=0.1.5 in /Users/yang/developer/matgenb/venv312/lib/python3.12/site-packages (from maggma>=0.57.1->mp_api) (0.4.0)\n",
      "Requirement already satisfied: orjson>=3.9.0 in /Users/yang/developer/matgenb/venv312/lib/python3.12/site-packages (from maggma>=0.57.1->mp_api) (3.10.12)\n",
      "Requirement already satisfied: boto3>=1.20.41 in /Users/yang/developer/matgenb/venv312/lib/python3.12/site-packages (from maggma>=0.57.1->mp_api) (1.35.74)\n",
      "Requirement already satisfied: python-dateutil>=2.8.2 in /Users/yang/developer/matgenb/venv312/lib/python3.12/site-packages (from maggma>=0.57.1->mp_api) (2.9.0.post0)\n",
      "Requirement already satisfied: contourpy>=1.0.1 in /Users/yang/developer/matgenb/venv312/lib/python3.12/site-packages (from matplotlib>=3.8->pymatgen) (1.3.1)\n",
      "Requirement already satisfied: cycler>=0.10 in /Users/yang/developer/matgenb/venv312/lib/python3.12/site-packages (from matplotlib>=3.8->pymatgen) (0.12.1)\n",
      "Requirement already satisfied: fonttools>=4.22.0 in /Users/yang/developer/matgenb/venv312/lib/python3.12/site-packages (from matplotlib>=3.8->pymatgen) (4.55.1)\n",
      "Requirement already satisfied: kiwisolver>=1.3.1 in /Users/yang/developer/matgenb/venv312/lib/python3.12/site-packages (from matplotlib>=3.8->pymatgen) (1.4.7)\n",
      "Requirement already satisfied: packaging>=20.0 in /Users/yang/developer/matgenb/venv312/lib/python3.12/site-packages (from matplotlib>=3.8->pymatgen) (24.2)\n",
      "Requirement already satisfied: pillow>=8 in /Users/yang/developer/matgenb/venv312/lib/python3.12/site-packages (from matplotlib>=3.8->pymatgen) (11.0.0)\n",
      "Requirement already satisfied: pyparsing>=2.3.1 in /Users/yang/developer/matgenb/venv312/lib/python3.12/site-packages (from matplotlib>=3.8->pymatgen) (3.2.0)\n",
      "Requirement already satisfied: pytz>=2020.1 in /Users/yang/developer/matgenb/venv312/lib/python3.12/site-packages (from pandas>=2->pymatgen) (2024.2)\n",
      "Requirement already satisfied: tzdata>=2022.7 in /Users/yang/developer/matgenb/venv312/lib/python3.12/site-packages (from pandas>=2->pymatgen) (2024.2)\n",
      "Requirement already satisfied: tenacity>=6.2.0 in /Users/yang/developer/matgenb/venv312/lib/python3.12/site-packages (from plotly>=4.5.0->pymatgen) (9.0.0)\n",
      "Requirement already satisfied: PyYAML>=3.01 in /Users/yang/developer/matgenb/venv312/lib/python3.12/site-packages (from pybtex>=0.24.0->pymatgen) (6.0.2)\n",
      "Requirement already satisfied: latexcodec>=1.0.4 in /Users/yang/developer/matgenb/venv312/lib/python3.12/site-packages (from pybtex>=0.24.0->pymatgen) (3.0.0)\n",
      "Requirement already satisfied: six in /Users/yang/developer/matgenb/venv312/lib/python3.12/site-packages (from pybtex>=0.24.0->pymatgen) (1.16.0)\n",
      "Requirement already satisfied: charset-normalizer<4,>=2 in /Users/yang/developer/matgenb/venv312/lib/python3.12/site-packages (from requests>=2.23.0->mp_api) (3.4.0)\n",
      "Requirement already satisfied: idna<4,>=2.5 in /Users/yang/developer/matgenb/venv312/lib/python3.12/site-packages (from requests>=2.23.0->mp_api) (3.10)\n",
      "Requirement already satisfied: urllib3<3,>=1.21.1 in /Users/yang/developer/matgenb/venv312/lib/python3.12/site-packages (from requests>=2.23.0->mp_api) (2.2.3)\n",
      "Requirement already satisfied: certifi>=2017.4.17 in /Users/yang/developer/matgenb/venv312/lib/python3.12/site-packages (from requests>=2.23.0->mp_api) (2024.8.30)\n",
      "Requirement already satisfied: ruamel.yaml.clib>=0.2.7 in /Users/yang/developer/matgenb/venv312/lib/python3.12/site-packages (from ruamel.yaml>=0.17.0->pymatgen) (0.2.12)\n",
      "Requirement already satisfied: mpmath<1.4,>=1.1.0 in /Users/yang/developer/matgenb/venv312/lib/python3.12/site-packages (from sympy>=1.3->pymatgen) (1.3.0)\n",
      "Requirement already satisfied: wrapt in /Users/yang/developer/matgenb/venv312/lib/python3.12/site-packages (from smart_open->mp_api) (1.17.0)\n",
      "Requirement already satisfied: botocore<1.36.0,>=1.35.74 in /Users/yang/developer/matgenb/venv312/lib/python3.12/site-packages (from boto3>=1.20.41->maggma>=0.57.1->mp_api) (1.35.74)\n",
      "Requirement already satisfied: jmespath<2.0.0,>=0.7.1 in /Users/yang/developer/matgenb/venv312/lib/python3.12/site-packages (from boto3>=1.20.41->maggma>=0.57.1->mp_api) (1.0.1)\n",
      "Requirement already satisfied: s3transfer<0.11.0,>=0.10.0 in /Users/yang/developer/matgenb/venv312/lib/python3.12/site-packages (from boto3>=1.20.41->maggma>=0.57.1->mp_api) (0.10.4)\n",
      "Requirement already satisfied: attrs>=19.2.0 in /Users/yang/developer/matgenb/venv312/lib/python3.12/site-packages (from jsonlines>=4.0.0->maggma>=0.57.1->mp_api) (24.2.0)\n",
      "Requirement already satisfied: jsonschema-specifications>=2023.03.6 in /Users/yang/developer/matgenb/venv312/lib/python3.12/site-packages (from jsonschema>=3.1.1->maggma>=0.57.1->mp_api) (2024.10.1)\n",
      "Requirement already satisfied: referencing>=0.28.4 in /Users/yang/developer/matgenb/venv312/lib/python3.12/site-packages (from jsonschema>=3.1.1->maggma>=0.57.1->mp_api) (0.35.1)\n",
      "Requirement already satisfied: rpds-py>=0.7.1 in /Users/yang/developer/matgenb/venv312/lib/python3.12/site-packages (from jsonschema>=3.1.1->maggma>=0.57.1->mp_api) (0.22.1)\n",
      "Requirement already satisfied: sentinels in /Users/yang/developer/matgenb/venv312/lib/python3.12/site-packages (from mongomock>=3.10.0->maggma>=0.57.1->mp_api) (1.0.0)\n",
      "Requirement already satisfied: annotated-types>=0.6.0 in /Users/yang/developer/matgenb/venv312/lib/python3.12/site-packages (from pydantic>=2.0->emmet-core>=0.78.0rc3->mp_api) (0.7.0)\n",
      "Requirement already satisfied: pydantic-core==2.27.1 in /Users/yang/developer/matgenb/venv312/lib/python3.12/site-packages (from pydantic>=2.0->emmet-core>=0.78.0rc3->mp_api) (2.27.1)\n",
      "Requirement already satisfied: python-dotenv>=0.21.0 in /Users/yang/developer/matgenb/venv312/lib/python3.12/site-packages (from pydantic-settings>=2.0->emmet-core>=0.78.0rc3->mp_api) (1.0.1)\n",
      "Requirement already satisfied: paramiko>=2.7.2 in /Users/yang/developer/matgenb/venv312/lib/python3.12/site-packages (from sshtunnel>=0.1.5->maggma>=0.57.1->mp_api) (3.5.0)\n",
      "Requirement already satisfied: bcrypt>=3.2 in /Users/yang/developer/matgenb/venv312/lib/python3.12/site-packages (from paramiko>=2.7.2->sshtunnel>=0.1.5->maggma>=0.57.1->mp_api) (4.2.1)\n",
      "Requirement already satisfied: cryptography>=3.3 in /Users/yang/developer/matgenb/venv312/lib/python3.12/site-packages (from paramiko>=2.7.2->sshtunnel>=0.1.5->maggma>=0.57.1->mp_api) (44.0.0)\n",
      "Requirement already satisfied: pynacl>=1.5 in /Users/yang/developer/matgenb/venv312/lib/python3.12/site-packages (from paramiko>=2.7.2->sshtunnel>=0.1.5->maggma>=0.57.1->mp_api) (1.5.0)\n",
      "Requirement already satisfied: cffi>=1.12 in /Users/yang/developer/matgenb/venv312/lib/python3.12/site-packages (from cryptography>=3.3->paramiko>=2.7.2->sshtunnel>=0.1.5->maggma>=0.57.1->mp_api) (1.17.1)\n",
      "Requirement already satisfied: pycparser in /Users/yang/developer/matgenb/venv312/lib/python3.12/site-packages (from cffi>=1.12->cryptography>=3.3->paramiko>=2.7.2->sshtunnel>=0.1.5->maggma>=0.57.1->mp_api) (2.22)\n",
      "Installing collected packages: mp_api\n",
      "Successfully installed mp_api-0.43.0\n"
     ]
    }
   ],
   "source": [
    "# Run the following line to install dependencies\n",
    "!pip install -U mp_api pymatgen"
   ]
  },
  {
   "cell_type": "code",
   "execution_count": null,
   "metadata": {},
   "outputs": [
    {
     "ename": "ModuleNotFoundError",
     "evalue": "No module named 'mp_api.client'",
     "output_type": "error",
     "traceback": [
      "\u001b[0;31m---------------------------------------------------------------------------\u001b[0m",
      "\u001b[0;31mModuleNotFoundError\u001b[0m                       Traceback (most recent call last)",
      "Cell \u001b[0;32mIn[2], line 1\u001b[0m\n\u001b[0;32m----> 1\u001b[0m \u001b[38;5;28;01mfrom\u001b[39;00m \u001b[38;5;21;01mmp_api\u001b[39;00m\u001b[38;5;21;01m.\u001b[39;00m\u001b[38;5;21;01mclient\u001b[39;00m \u001b[38;5;28;01mimport\u001b[39;00m MPRester\n\u001b[1;32m      2\u001b[0m \u001b[38;5;28;01mfrom\u001b[39;00m \u001b[38;5;21;01mpymatgen\u001b[39;00m\u001b[38;5;21;01m.\u001b[39;00m\u001b[38;5;21;01melectronic_structure\u001b[39;00m\u001b[38;5;21;01m.\u001b[39;00m\u001b[38;5;21;01mcore\u001b[39;00m \u001b[38;5;28;01mimport\u001b[39;00m Spin\n\u001b[1;32m      4\u001b[0m \u001b[38;5;66;03m# Put your own MP API key.\u001b[39;00m\n",
      "\u001b[0;31mModuleNotFoundError\u001b[0m: No module named 'mp_api.client'"
     ]
    }
   ],
   "source": [
    "from mp_api.client import MPRester\n",
    "from pymatgen.electronic_structure.core import Spin\n",
    "\n",
    "# Put your own MP API key.\n",
    "mpr = MPRester()\n",
    "# load the band structure for `mp-3748``, CuAlO2 from the MP DB\n",
    "bs = mpr.get_bandstructure_by_material_id(\"mp-3748\")"
   ]
  },
  {
   "cell_type": "markdown",
   "metadata": {},
   "source": [
    "We print some information about the band structure"
   ]
  },
  {
   "cell_type": "code",
   "execution_count": null,
   "metadata": {},
   "outputs": [],
   "source": [
    "# is the material a metal (i.e., the fermi level cross a band)\n",
    "print(bs.is_metal())\n",
    "# print information on the band gap\n",
    "print(bs.get_band_gap())\n",
    "# print the energy of the 21st band and 11th kpoint\n",
    "print(bs.bands[Spin.up][20][10])\n",
    "# print energy of direct band gap\n",
    "print(bs.get_direct_band_gap())\n",
    "# print information on the VBM\n",
    "print(bs.get_vbm())"
   ]
  },
  {
   "cell_type": "markdown",
   "metadata": {},
   "source": [
    "Here, we plot the bs object. By default for an insulator we have en energy limit of CBM+4eV and VBM-4 eV"
   ]
  },
  {
   "cell_type": "code",
   "execution_count": null,
   "metadata": {},
   "outputs": [],
   "source": [
    "%matplotlib inline\n",
    "from pymatgen.electronic_structure.plotter import BSPlotter\n",
    "\n",
    "plotter = BSPlotter(bs)\n",
    "plotter.get_plot()"
   ]
  },
  {
   "cell_type": "markdown",
   "metadata": {},
   "source": [
    "We plot the Brillouin zone with the path which was used for the band structure"
   ]
  },
  {
   "cell_type": "code",
   "execution_count": null,
   "metadata": {},
   "outputs": [],
   "source": [
    "plotter.plot_brillouin()"
   ]
  }
 ],
 "metadata": {
  "anaconda-cloud": {},
  "kernelspec": {
   "display_name": "venv312",
   "language": "python",
   "name": "python3"
  },
  "language_info": {
   "codemirror_mode": {
    "name": "ipython",
    "version": 3
   },
   "file_extension": ".py",
   "mimetype": "text/x-python",
   "name": "python",
   "nbconvert_exporter": "python",
   "pygments_lexer": "ipython3",
   "version": "3.12.7"
  }
 },
 "nbformat": 4,
 "nbformat_minor": 1
}
