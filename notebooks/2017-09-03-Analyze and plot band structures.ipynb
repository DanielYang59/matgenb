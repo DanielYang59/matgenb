{
 "cells": [
  {
   "cell_type": "markdown",
   "metadata": {},
   "source": [
    "This notebook shows some examples of methods on a BandStructureSymmLine object (gettting band gaps, VBM, etc...) and basic plotting. Written by Geoffroy Hautier (geoffroy.hautier@uclouvain.be)"
   ]
  },
  {
   "cell_type": "markdown",
   "metadata": {},
   "source": [
    "We start by querying the MP database for a band structure object. Please note that you could get such an object from a run (VASP, ABINIT, ...) using the methods in pymatgen.io\n"
   ]
  },
  {
   "cell_type": "code",
   "execution_count": null,
   "metadata": {},
   "outputs": [],
   "source": [
    "# Uncomment the following line to install dependencies\n",
    "!pip install -U mp_api pymatgen"
   ]
  },
  {
   "cell_type": "code",
   "execution_count": null,
   "metadata": {},
   "outputs": [],
   "source": [
    "from mp_api.client import MPRester\n",
    "from pymatgen.electronic_structure.core import Spin\n",
    "\n",
    "# Put your own MP API key.\n",
    "mpr = MPRester()\n",
    "# load the band structure for `mp-3748``, CuAlO2 from the MP DB\n",
    "bs = mpr.get_bandstructure_by_material_id(\"mp-3748\")"
   ]
  },
  {
   "cell_type": "markdown",
   "metadata": {},
   "source": [
    "We print some information about the band structure"
   ]
  },
  {
   "cell_type": "code",
   "execution_count": null,
   "metadata": {},
   "outputs": [],
   "source": [
    "# is the material a metal (i.e., the fermi level cross a band)\n",
    "print(bs.is_metal())\n",
    "# print information on the band gap\n",
    "print(bs.get_band_gap())\n",
    "# print the energy of the 21st band and 11th kpoint\n",
    "print(bs.bands[Spin.up][20][10])\n",
    "# print energy of direct band gap\n",
    "print(bs.get_direct_band_gap())\n",
    "# print information on the VBM\n",
    "print(bs.get_vbm())"
   ]
  },
  {
   "cell_type": "markdown",
   "metadata": {},
   "source": [
    "Here, we plot the bs object. By default for an insulator we have en energy limit of CBM+4eV and VBM-4 eV"
   ]
  },
  {
   "cell_type": "code",
   "execution_count": null,
   "metadata": {},
   "outputs": [],
   "source": [
    "%matplotlib inline\n",
    "from pymatgen.electronic_structure.plotter import BSPlotter\n",
    "\n",
    "plotter = BSPlotter(bs)\n",
    "plotter.get_plot()"
   ]
  },
  {
   "cell_type": "markdown",
   "metadata": {},
   "source": [
    "We plot the Brillouin zone with the path which was used for the band structure"
   ]
  },
  {
   "cell_type": "code",
   "execution_count": null,
   "metadata": {},
   "outputs": [],
   "source": [
    "plotter.plot_brillouin()"
   ]
  }
 ],
 "metadata": {
  "anaconda-cloud": {},
  "kernelspec": {
   "display_name": "venv312",
   "language": "python",
   "name": "python3"
  },
  "language_info": {
   "codemirror_mode": {
    "name": "ipython",
    "version": 3
   },
   "file_extension": ".py",
   "mimetype": "text/x-python",
   "name": "python",
   "nbconvert_exporter": "python",
   "pygments_lexer": "ipython3",
   "version": "3.12.7"
  }
 },
 "nbformat": 4,
 "nbformat_minor": 1
}
