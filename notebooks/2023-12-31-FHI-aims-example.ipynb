{
 "cells": [
  {
   "cell_type": "code",
   "execution_count": 1,
   "id": "0",
   "metadata": {},
   "outputs": [],
   "source": [
    "from pathlib import Path\n",
    "from subprocess import check_call\n",
    "\n",
    "import numpy as np\n",
    "from numpy.testing import assert_allclose\n",
    "\n",
    "from pymatgen.core import Lattice, Structure\n",
    "from pymatgen.io.aims.inputs import AimsControlIn, AimsCube, AimsGeometryIn\n",
    "from pymatgen.io.aims.outputs import AimsOutput"
   ]
  },
  {
   "cell_type": "code",
   "execution_count": 2,
   "id": "1",
   "metadata": {},
   "outputs": [],
   "source": [
    "# AIMS_CMD should be modified to match your system\n",
    "AIMS_CMD = \"aims.x\"\n",
    "AIMS_OUTPUT = \"aims.out\"\n",
    "AIMS_SD = \"species_dir\"\n",
    "AIMS_TEST_DIR = \"../../tests/io/aims/species_directory/light/\""
   ]
  },
  {
   "cell_type": "code",
   "execution_count": 3,
   "id": "2",
   "metadata": {},
   "outputs": [],
   "source": [
    "# Create test structure\n",
    "structure = Structure(\n",
    "    lattice=Lattice(np.array([[0, 2.715, 2.715], [2.715, 0, 2.715], [2.715, 2.715, 0]])),\n",
    "    species=[\"Si\", \"Si\"],\n",
    "    coords=np.array([np.zeros(3), np.ones(3) * 0.25]),\n",
    ")"
   ]
  },
  {
   "cell_type": "code",
   "execution_count": 4,
   "id": "3",
   "metadata": {},
   "outputs": [],
   "source": [
    "# Create the geometry file from the structure\n",
    "geo_in = AimsGeometryIn.from_structure(structure)\n",
    "\n",
    "# Create the control.in file\n",
    "cont_in = AimsControlIn(\n",
    "    {\n",
    "        \"xc\": \"pw-lda\",\n",
    "        \"relax_geometry\": \"trm 0.01\",\n",
    "        \"relax_unit_cell\": \"full\",\n",
    "        \"species_dir\": AIMS_SD,\n",
    "    }\n",
    ")\n",
    "\n",
    "# Add new parameters as if AimsControl\n",
    "cont_in[\"k_grid\"] = [1, 1, 1]\n",
    "\n",
    "# Output options to control in automatically append the list\n",
    "cont_in[\"output\"] = \"hirshfeld\"\n",
    "cont_in[\"output\"] = [\"eigenvectors\"]\n",
    "\n",
    "# Cube file output controlled by the AimsCube class\n",
    "cont_in[\"cubes\"] = [\n",
    "    AimsCube(\"total_density\", origin=[0, 0, 0], points=[11, 11, 11]),\n",
    "    AimsCube(\"eigenstate_density 1\", origin=[0, 0, 0], points=[11, 11, 11]),\n",
    "]"
   ]
  },
  {
   "cell_type": "code",
   "execution_count": 5,
   "id": "4",
   "metadata": {},
   "outputs": [
    {
     "ename": "ValueError",
     "evalue": "Species file for Si not found.",
     "output_type": "error",
     "traceback": [
      "\u001b[0;31m---------------------------------------------------------------------------\u001b[0m",
      "\u001b[0;31mValueError\u001b[0m                                Traceback (most recent call last)",
      "Cell \u001b[0;32mIn[5], line 6\u001b[0m\n\u001b[1;32m      3\u001b[0m work_dir\u001b[38;5;241m.\u001b[39mmkdir(exist_ok\u001b[38;5;241m=\u001b[39m\u001b[38;5;28;01mTrue\u001b[39;00m)\n\u001b[1;32m      5\u001b[0m geo_in\u001b[38;5;241m.\u001b[39mwrite_file(work_dir, overwrite\u001b[38;5;241m=\u001b[39m\u001b[38;5;28;01mTrue\u001b[39;00m)\n\u001b[0;32m----> 6\u001b[0m \u001b[43mcont_in\u001b[49m\u001b[38;5;241;43m.\u001b[39;49m\u001b[43mwrite_file\u001b[49m\u001b[43m(\u001b[49m\u001b[43mstructure\u001b[49m\u001b[43m,\u001b[49m\u001b[43m \u001b[49m\u001b[43mwork_dir\u001b[49m\u001b[43m,\u001b[49m\u001b[43m \u001b[49m\u001b[43moverwrite\u001b[49m\u001b[38;5;241;43m=\u001b[39;49m\u001b[38;5;28;43;01mTrue\u001b[39;49;00m\u001b[43m)\u001b[49m\n",
      "File \u001b[0;32m~/miniconda3/envs/mavrl/lib/python3.11/site-packages/pymatgen/io/aims/inputs.py:583\u001b[0m, in \u001b[0;36mAimsControlIn.write_file\u001b[0;34m(self, structure, directory, verbose_header, overwrite)\u001b[0m\n\u001b[1;32m    578\u001b[0m \u001b[38;5;28;01mif\u001b[39;00m \u001b[38;5;28misinstance\u001b[39m(structure, Structure) \u001b[38;5;129;01mand\u001b[39;00m (\n\u001b[1;32m    579\u001b[0m     \u001b[38;5;124m\"\u001b[39m\u001b[38;5;124mk_grid\u001b[39m\u001b[38;5;124m\"\u001b[39m \u001b[38;5;129;01mnot\u001b[39;00m \u001b[38;5;129;01min\u001b[39;00m \u001b[38;5;28mself\u001b[39m\u001b[38;5;241m.\u001b[39m_parameters \u001b[38;5;129;01mand\u001b[39;00m \u001b[38;5;124m\"\u001b[39m\u001b[38;5;124mk_grid_density\u001b[39m\u001b[38;5;124m\"\u001b[39m \u001b[38;5;129;01mnot\u001b[39;00m \u001b[38;5;129;01min\u001b[39;00m \u001b[38;5;28mself\u001b[39m\u001b[38;5;241m.\u001b[39m_parameters\n\u001b[1;32m    580\u001b[0m ):\n\u001b[1;32m    581\u001b[0m     \u001b[38;5;28;01mraise\u001b[39;00m \u001b[38;5;167;01mValueError\u001b[39;00m(\u001b[38;5;124m\"\u001b[39m\u001b[38;5;124mk-grid must be defined for periodic systems\u001b[39m\u001b[38;5;124m\"\u001b[39m)\n\u001b[0;32m--> 583\u001b[0m content \u001b[38;5;241m=\u001b[39m \u001b[38;5;28;43mself\u001b[39;49m\u001b[38;5;241;43m.\u001b[39;49m\u001b[43mget_content\u001b[49m\u001b[43m(\u001b[49m\u001b[43mstructure\u001b[49m\u001b[43m,\u001b[49m\u001b[43m \u001b[49m\u001b[43mverbose_header\u001b[49m\u001b[43m)\u001b[49m\n\u001b[1;32m    585\u001b[0m \u001b[38;5;28;01mwith\u001b[39;00m \u001b[38;5;28mopen\u001b[39m(\u001b[38;5;124mf\u001b[39m\u001b[38;5;124m\"\u001b[39m\u001b[38;5;132;01m{\u001b[39;00mdirectory\u001b[38;5;132;01m}\u001b[39;00m\u001b[38;5;124m/control.in\u001b[39m\u001b[38;5;124m\"\u001b[39m, mode\u001b[38;5;241m=\u001b[39m\u001b[38;5;124m\"\u001b[39m\u001b[38;5;124mw\u001b[39m\u001b[38;5;124m\"\u001b[39m) \u001b[38;5;28;01mas\u001b[39;00m file:\n\u001b[1;32m    586\u001b[0m     file\u001b[38;5;241m.\u001b[39mwrite(\u001b[38;5;124mf\u001b[39m\u001b[38;5;124m\"\u001b[39m\u001b[38;5;124m#\u001b[39m\u001b[38;5;132;01m{\u001b[39;00m\u001b[38;5;124m'\u001b[39m\u001b[38;5;124m=\u001b[39m\u001b[38;5;124m'\u001b[39m\u001b[38;5;250m \u001b[39m\u001b[38;5;241m*\u001b[39m\u001b[38;5;250m \u001b[39m\u001b[38;5;241m72\u001b[39m\u001b[38;5;132;01m}\u001b[39;00m\u001b[38;5;130;01m\\n\u001b[39;00m\u001b[38;5;124m\"\u001b[39m)\n",
      "File \u001b[0;32m~/miniconda3/envs/mavrl/lib/python3.11/site-packages/pymatgen/io/aims/inputs.py:548\u001b[0m, in \u001b[0;36mAimsControlIn.get_content\u001b[0;34m(self, structure, verbose_header, directory)\u001b[0m\n\u001b[1;32m    546\u001b[0m content \u001b[38;5;241m+\u001b[39m\u001b[38;5;241m=\u001b[39m lim \u001b[38;5;241m+\u001b[39m \u001b[38;5;124m\"\u001b[39m\u001b[38;5;130;01m\\n\u001b[39;00m\u001b[38;5;130;01m\\n\u001b[39;00m\u001b[38;5;124m\"\u001b[39m\n\u001b[1;32m    547\u001b[0m species_dir \u001b[38;5;241m=\u001b[39m \u001b[38;5;28mself\u001b[39m\u001b[38;5;241m.\u001b[39m_parameters\u001b[38;5;241m.\u001b[39mget(\u001b[38;5;124m\"\u001b[39m\u001b[38;5;124mspecies_dir\u001b[39m\u001b[38;5;124m\"\u001b[39m, os\u001b[38;5;241m.\u001b[39menviron\u001b[38;5;241m.\u001b[39mget(\u001b[38;5;124m\"\u001b[39m\u001b[38;5;124mAIMS_SPECIES_DIR\u001b[39m\u001b[38;5;124m\"\u001b[39m))\n\u001b[0;32m--> 548\u001b[0m content \u001b[38;5;241m+\u001b[39m\u001b[38;5;241m=\u001b[39m \u001b[38;5;28;43mself\u001b[39;49m\u001b[38;5;241;43m.\u001b[39;49m\u001b[43mget_species_block\u001b[49m\u001b[43m(\u001b[49m\u001b[43mstructure\u001b[49m\u001b[43m,\u001b[49m\u001b[43m \u001b[49m\u001b[43mspecies_dir\u001b[49m\u001b[43m)\u001b[49m\n\u001b[1;32m    550\u001b[0m \u001b[38;5;28;01mreturn\u001b[39;00m content\n",
      "File \u001b[0;32m~/miniconda3/envs/mavrl/lib/python3.11/site-packages/pymatgen/io/aims/inputs.py:618\u001b[0m, in \u001b[0;36mAimsControlIn.get_species_block\u001b[0;34m(self, structure, species_dir)\u001b[0m\n\u001b[1;32m    616\u001b[0m             block \u001b[38;5;241m+\u001b[39m\u001b[38;5;241m=\u001b[39m \u001b[38;5;124m\"\u001b[39m\u001b[38;5;124m\"\u001b[39m\u001b[38;5;241m.\u001b[39mjoin(sf\u001b[38;5;241m.\u001b[39mreadlines())\n\u001b[1;32m    617\u001b[0m     \u001b[38;5;28;01melse\u001b[39;00m:\n\u001b[0;32m--> 618\u001b[0m         \u001b[38;5;28;01mraise\u001b[39;00m \u001b[38;5;167;01mValueError\u001b[39;00m(\u001b[38;5;124mf\u001b[39m\u001b[38;5;124m\"\u001b[39m\u001b[38;5;124mSpecies file for \u001b[39m\u001b[38;5;132;01m{\u001b[39;00msp\u001b[38;5;241m.\u001b[39msymbol\u001b[38;5;132;01m}\u001b[39;00m\u001b[38;5;124m not found.\u001b[39m\u001b[38;5;124m\"\u001b[39m)\n\u001b[1;32m    620\u001b[0m \u001b[38;5;28;01mreturn\u001b[39;00m block\n",
      "\u001b[0;31mValueError\u001b[0m: Species file for Si not found."
     ]
    }
   ],
   "source": [
    "# Write the input files\n",
    "work_dir = Path.cwd() / \"workdir/\"\n",
    "work_dir.mkdir(exist_ok=True)\n",
    "\n",
    "geo_in.write_file(work_dir, overwrite=True)\n",
    "cont_in.write_file(structure, work_dir, overwrite=True)"
   ]
  },
  {
   "cell_type": "code",
   "execution_count": null,
   "id": "5",
   "metadata": {},
   "outputs": [],
   "source": [
    "# Run the calculation\n",
    "with open(f\"{work_dir}/{AIMS_OUTPUT}\", \"w\") as outfile:\n",
    "    aims_run = check_call([AIMS_CMD], cwd=work_dir, stdout=outfile)"
   ]
  },
  {
   "cell_type": "code",
   "execution_count": null,
   "id": "6",
   "metadata": {},
   "outputs": [],
   "source": [
    "# Read the aims output file and the final relaxed geometry\n",
    "outputs = AimsOutput.from_outfile(f\"{work_dir}/{AIMS_OUTPUT}\")\n",
    "relaxed_structure = AimsGeometryIn.from_file(f\"{work_dir}/geometry.in.next_step\")\n",
    "\n",
    "# Check the results\n",
    "assert outputs.get_results_for_image(-1).lattice == relaxed_structure.structure.lattice\n",
    "assert_allclose(outputs.get_results_for_image(-1).frac_coords, relaxed_structure.structure.frac_coords)\n",
    "assert_allclose(outputs.get_results_for_image(-1).properties[\"stress\"], outputs.stress)\n",
    "assert_allclose(outputs.get_results_for_image(-1).site_properties[\"force\"], outputs.forces)"
   ]
  }
 ],
 "metadata": {
  "kernelspec": {
   "display_name": "Python 3 (ipykernel)",
   "language": "python",
   "name": "python3"
  },
  "language_info": {
   "codemirror_mode": {
    "name": "ipython",
    "version": 3
   },
   "file_extension": ".py",
   "mimetype": "text/x-python",
   "name": "python",
   "nbconvert_exporter": "python",
   "pygments_lexer": "ipython3",
   "version": "3.11.5"
  }
 },
 "nbformat": 4,
 "nbformat_minor": 5
}
