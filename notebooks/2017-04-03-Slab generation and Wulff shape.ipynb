{
 "cells": [
  {
   "cell_type": "markdown",
   "metadata": {},
   "source": [
    "# Introduction\n",
    "\n",
    "This notebook demonstrates how to generate various slabs for a material using surface.py. In addition, it will also demonstrate how to obtain the Wulff shape with a set of surface energies associated with Miller indices."
   ]
  },
  {
   "cell_type": "markdown",
   "metadata": {},
   "source": [
    "# References\n",
    "\n",
    "R. Tran, Z. Xu, B. Radhakrishnan, D. Winston, W. Sun, K. A. Persson, S. P. Ong, \"Surface Energies of Elemental Crystals\", Scientific Data, 2016, 3:160080, doi:10.1038/sdata.2016.80.\n",
    "\n",
    "Sun, W.; Ceder, G. Efficient creation and convergence of surface slabs, Surface Science, 2013, 617, 53–59, doi:10.1016/j.susc.2013.05.016."
   ]
  },
  {
   "cell_type": "code",
   "execution_count": 45,
   "metadata": {
    "collapsed": true
   },
   "outputs": [],
   "source": [
    "# Import the necessary tools for making a Wulff shape\n",
    "from pymatgen.analysis.wulff import WulffShape\n",
    "\n",
    "# Import the necessary tools to generate surfaces\n",
    "from pymatgen.core.surface import Lattice, SlabGenerator, Structure, generate_all_slabs"
   ]
  },
  {
   "cell_type": "code",
   "execution_count": 2,
   "metadata": {
    "collapsed": true
   },
   "outputs": [],
   "source": [
    "# Let's start with fcc Ni\n",
    "lattice = Lattice.cubic(3.508)\n",
    "Ni = Structure(\n",
    "    lattice,\n",
    "    [\"Ni\", \"Ni\", \"Ni\", \"Ni\"],\n",
    "    [[0, 0, 0], [0, 0.5, 0], [0.5, 0, 0], [0, 0, 0.5]],\n",
    ")"
   ]
  },
  {
   "cell_type": "code",
   "execution_count": 80,
   "metadata": {
    "collapsed": false
   },
   "outputs": [
    {
     "name": "stdout",
     "output_type": "stream",
     "text": [
      "The Ni(111) slab only has 1 termination.\n"
     ]
    }
   ],
   "source": [
    "# We'll use the SlabGenerator class to get a single slab. We'll start with the\n",
    "# (111) slab of Ni. Plug in the CONVENTIONAL unit cell of your structure, the\n",
    "# maximum Miller index value to generate the different slab orientations along\n",
    "# with the minimum slab and vacuum size in Angstroms\n",
    "slabgen = SlabGenerator(Ni, (1, 1, 1), 10, 10)\n",
    "\n",
    "# If we want to find all terminations for a particular Miller index orientation,\n",
    "# we use the get_slabs() method. This returns a LIST of slabs rather than a single\n",
    "# slab. When generating a slab for a particular orientation, there are sometimes\n",
    "# more than one location we can terminate or cut the structure to create a slab. The\n",
    "# simplest example of this would be the Si(Fd-3m) (111) slab which can be cut or\n",
    "# terminated in two different locations along the vector of the Miller index. For a\n",
    "# fcc structure such as Ni however, there should only be one way to cut a (111) slab.\n",
    "all_slabs = slabgen.get_slabs()\n",
    "print(\"The Ni(111) slab only has %s termination.\" % (len(all_slabs)))"
   ]
  },
  {
   "cell_type": "code",
   "execution_count": 88,
   "metadata": {
    "collapsed": false
   },
   "outputs": [
    {
     "name": "stdout",
     "output_type": "stream",
     "text": [
      "Notice now there are actually now 2 terminations that can be generated in the (111) direction for diamond Si\n",
      "18 unique slab structures have been found for a max Miller index of 3\n"
     ]
    }
   ],
   "source": [
    "# Let's try this for a diamond Silicon structure\n",
    "lattice = Lattice.cubic(5.46873)\n",
    "Si = Structure(\n",
    "    lattice,\n",
    "    [\"Si\", \"Si\", \"Si\", \"Si\", \"Si\", \"Si\", \"Si\", \"Si\"],\n",
    "    [\n",
    "        [0.00000, 0.00000, 0.50000],\n",
    "        [0.75000, 0.75000, 0.75000],\n",
    "        [0.00000, 0.50000, 0.00000],\n",
    "        [0.75000, 0.25000, 0.25000],\n",
    "        [0.50000, 0.00000, 0.00000],\n",
    "        [0.25000, 0.75000, 0.25000],\n",
    "        [0.50000, 0.50000, 0.50000],\n",
    "        [0.25000, 0.25000, 0.75000],\n",
    "    ],\n",
    ")\n",
    "\n",
    "slabgen = SlabGenerator(Si, (1, 1, 1), 10, 10)\n",
    "print(\n",
    "    \"Notice now there are actually now %s terminations that can be \\\n",
    "generated in the (111) direction for diamond Si\"\n",
    "    % (len(slabgen.get_slabs()))\n",
    ")\n",
    "\n",
    "# The simplest way to do this is to just use generate_all_slabs which finds all the unique\n",
    "# Miller indices for a structure and uses SlabGenerator to create all terminations for all of them.\n",
    "all_slabs = generate_all_slabs(Si, 3, 10, 10)\n",
    "print(\n",
    "    \"%s unique slab structures have been found for a max Miller index of 3\"\n",
    "    % (len(all_slabs))\n",
    ")"
   ]
  },
  {
   "cell_type": "code",
   "execution_count": 89,
   "metadata": {
    "collapsed": false
   },
   "outputs": [
    {
     "name": "stdout",
     "output_type": "stream",
     "text": [
      "(1, 1, 1)\n",
      "(1, 1, 1)\n",
      "(3, 3, 2)\n",
      "(3, 3, 1)\n",
      "(3, 3, 1)\n",
      "(1, 1, 0)\n",
      "(3, 2, 2)\n",
      "(3, 2, 2)\n",
      "(3, 2, 1)\n",
      "(3, 2, 0)\n",
      "(3, 1, 1)\n",
      "(3, 1, 1)\n",
      "(3, 1, 0)\n",
      "(1, 0, 0)\n",
      "(2, 2, 1)\n",
      "(2, 2, 1)\n",
      "(2, 1, 1)\n",
      "(2, 1, 0)\n",
      "Notice some Miller indices are repeated. Again, this is due to there being more than one termination\n"
     ]
    }
   ],
   "source": [
    "# What are the Miller indices of these slabs?\n",
    "for slab in all_slabs:\n",
    "    print(slab.miller_index)\n",
    "print(\n",
    "    \"Notice some Miller indices are repeated. Again, this is due to there being more than one termination\"\n",
    ")"
   ]
  },
  {
   "cell_type": "markdown",
   "metadata": {},
   "source": [
    "# Calculating the surface energy\n",
    "To do this, we actually need to calculate (from first principles) the total energy of two structures. The total energy of the bulk ($E_{bulk}$) (preferably the oriented unit cell corresponding to the slab) and the total energy of the slab($E_{slab}$) which is several layers of atoms interfaced with a vacuum. Using the following equation, we can get the surface energy $\\gamma = \\frac{E_{slab}-E_{bulk}}{2A}$ where both slab and bulk systems have the same number of atoms and species (you can multiply $E_{bulk}$ where n is the number of oriented unit cell layers contained in your slab system relative ot your bulk system). The factor of 1/2 accounts for the two surfaces in our slab model so $\\gamma$ is the surface energy of one surface.\n",
    "\n",
    "# Some basic properties of the Wulff shape\n",
    "\n",
    "Using the WulffShape class, there are a couple of properties we can get. Here we will explain what some of them are.\n",
    "\n",
    "weighted_surface_energy:\n",
    "\n",
    "Surface Gibbs free energy for a crystal is given by $\\Delta G=\\sum\\limits_{hkl}\\gamma_{hkl}A_{hkl}$. Where $\\gamma_{hkl}$ is the surface energy of facet (hkl) and $A_{hkl}$ is the surface area of that particular facet that occupies the Wulff shape. We can normalize this value with the total surface area of the Wulff shape to get the weighted (average) surface energy for a particular material $\\bar{\\gamma}=\\frac{\\Delta G}{\\sum\\limits_{hkl}A_{hkl}}$\n",
    "\n",
    "anisotropy:\n",
    "\n",
    "Typically in the literature when discussing surface anisotropy, we would only look at the ratios of 2 surface energies when talking about anisotropy. eg. the ratio of a generic fcc (111) to (100) surface energy should be less than 1 as the (111) facet is the closest packed surface of an fcc structure and should have the lowest surface energy. However this method of determining surface anisotropy does not allow us to determine an overall anisotropy of a material, ie. how different are all the surface energies for a material. As such, we used the Coefficient of Variation from the weighted surface energy. For reference, an ideal sphere Wulff shape (eg. completely isotropic) has a anisotropy of 0.\n",
    "\n",
    "shape_factor:\n",
    "\n",
    "An alternative to anisotropy. This is useful for determining the critical nucleus size. A large shape factor indicates great anisotropy.\n",
    "See Ballufi, R. W., Allen, S. M. & Carter, W. C. Kinetics of Materials. (John Wiley & Sons, 2005), p.461"
   ]
  },
  {
   "cell_type": "code",
   "execution_count": 90,
   "metadata": {
    "collapsed": false
   },
   "outputs": [
    {
     "name": "stdout",
     "output_type": "stream",
     "text": [
      "shape factor: 5.178, anisotropy: 0.070, weighted surface energy: 2.035 J/m^2\n"
     ]
    },
    {
     "data": {
      "image/png": "[encoded data removed]",
      "text/plain": [
       "<matplotlib.figure.Figure at 0x118a1d2b0>"
      ]
     },
     "metadata": {},
     "output_type": "display_data"
    }
   ],
   "source": [
    "# Now let's assume that we then calculated the surface energies for these slabs\n",
    "\n",
    "# Surface energy values in J/m^2\n",
    "surface_energies_Ni = {\n",
    "    (3, 2, 0): 2.3869,\n",
    "    (1, 1, 0): 2.2862,\n",
    "    (3, 1, 0): 2.3964,\n",
    "    (2, 1, 0): 2.3969,\n",
    "    (3, 3, 2): 2.0944,\n",
    "    (1, 0, 0): 2.2084,\n",
    "    (2, 1, 1): 2.2353,\n",
    "    (3, 2, 2): 2.1242,\n",
    "    (3, 2, 1): 2.3183,\n",
    "    (2, 2, 1): 2.1732,\n",
    "    (3, 3, 1): 2.2288,\n",
    "    (3, 1, 1): 2.3039,\n",
    "    (1, 1, 1): 1.9235,\n",
    "}\n",
    "miller_list = surface_energies_Ni.keys()\n",
    "e_surf_list = surface_energies_Ni.values()\n",
    "\n",
    "# We can now construct a Wulff shape with an accuracy up to a max Miller index of 3\n",
    "wulffshape = WulffShape(Ni.lattice, miller_list, e_surf_list)\n",
    "\n",
    "# Let's get some useful information from our wulffshape object\n",
    "print(\n",
    "    \"shape factor: %.3f, anisotropy: \\\n",
    "%.3f, weighted surface energy: %.3f J/m^2\"\n",
    "    % (\n",
    "        wulffshape.shape_factor,\n",
    "        wulffshape.anisotropy,\n",
    "        wulffshape.weighted_surface_energy,\n",
    "    )\n",
    ")\n",
    "\n",
    "\n",
    "# If we want to see what our Wulff shape looks like\n",
    "wulffshape.show()"
   ]
  },
  {
   "cell_type": "code",
   "execution_count": 98,
   "metadata": {
    "collapsed": false
   },
   "outputs": [
    {
     "name": "stdout",
     "output_type": "stream",
     "text": [
      "For the (001) slab of LiFePO4, there are 5 terminations.\n",
      "True False\n",
      "True False\n",
      "True False\n",
      "True False\n",
      "False False\n"
     ]
    }
   ],
   "source": [
    "# Lets try something a little more complicated, say LiFePO4\n",
    "from pymatgen.util.testing import PymatgenTest\n",
    "\n",
    "# Get the LiFePO4 structure\n",
    "LiFePO4 = PymatgenTest.get_structure(\"LiFePO4\")\n",
    "\n",
    "# Let's add some oxidation states to LiFePO4, this will be\n",
    "# important when we want to take surface polarity into consideration\n",
    "LiFePO4.add_oxidation_state_by_element({\"Fe\": 2, \"Li\": 1, \"P\": 5, \"O\": -2})\n",
    "slabgen = SlabGenerator(LiFePO4, (0, 0, 1), 10, 10)"
   ]
  },
  {
   "cell_type": "markdown",
   "metadata": {},
   "source": [
    "When generating a slab of LiFePO4, we also want to be careful \n",
    "not break any of the P-O bonds. These bonds are strong \n",
    "enough that they will result in a significantly high surface \n",
    "energy when broken so its reasonable to say that any terminations \n",
    "with such broken bonds will not yield the lowest surface energy. To\n",
    "implement this, we add the bonds parameter to get_slabs, a dictionary \n",
    "where the key will be two atoms whose bonds we do not want to break \n",
    "and the element of that value would be their maximum bond length."
   ]
  },
  {
   "cell_type": "code",
   "execution_count": 102,
   "metadata": {
    "collapsed": false
   },
   "outputs": [
    {
     "name": "stdout",
     "output_type": "stream",
     "text": [
      "For the (001) slab of LiFePO4, there are 5 terminations.\n"
     ]
    }
   ],
   "source": [
    "all_slabs = slabgen.get_slabs(bonds={(\"P\", \"O\"): 2})\n",
    "# any bond between P and O less than 2 Angstroms cannot be broken when generating slabs\n",
    "print(\"For the (001) slab of LiFePO4, there are %s terminations.\" % (len(all_slabs)))"
   ]
  },
  {
   "cell_type": "markdown",
   "metadata": {},
   "source": [
    "There are a couple of rules before we actually run calculations on some of these \n",
    "slab models. First off, we need to ensure that all slabs we will be calculating have \n",
    "the same surface on both sides. To do this, we need to ensure the slab model has Laue \n",
    "point group symmetry ie. contains inversion symmetry. We use the is_symmetric() \n",
    "property of our slab object to check this. It's important that both surfaces are the \n",
    "same as the above equation for surface energy is used to get the energy of one surface, \n",
    "hence the 1/2 factor in the equation. If the surfaces are different (the slab is not \n",
    "symmetric), we would be calculating the average surface energy of two different surfaces \n",
    "in our slab rather than the surface energy for one slab in our calculation. Secondly, \n",
    "for structures containing oxidation states, we need to ensure that our surfaces are \n",
    "nonpolar. A polar termination will lead to a very high surface energy, so we can skip \n",
    "those particular structures. We can check polarity using the is_polar() property of \n",
    "our slab object. Both these criterias (nonpolar and symmetric) should be satisfied \n",
    "before calculating a particular slab model."
   ]
  },
  {
   "cell_type": "code",
   "execution_count": 103,
   "metadata": {
    "collapsed": false
   },
   "outputs": [
    {
     "name": "stdout",
     "output_type": "stream",
     "text": [
      "True False\n",
      "True False\n",
      "True False\n",
      "True False\n",
      "False False\n"
     ]
    }
   ],
   "source": [
    "for slab in all_slabs:\n",
    "    print(slab.is_polar(), slab.is_symmetric())\n",
    "# Notice that none of the terminations in the (001) direction do not simultaneously satisfy\n",
    "# our two criteria so a (001) surface with a reasonable surface energy cannot be calculated.\n",
    "# In such cases, we need to modify the surfaces of our slabs. A future release of surface.py\n",
    "# will implement such modification techniques for these cases."
   ]
  },
  {
   "cell_type": "code",
   "execution_count": 105,
   "metadata": {
    "collapsed": false
   },
   "outputs": [],
   "source": [
    "# Now let's generate all possible slabs for a max Miller index of 2 for LiFePO4 and see if\n",
    "# any of these surfaces can be calculated to yield reasonable and accurate surface energy\n",
    "# values. This may take a while.\n",
    "all_slabs = generate_all_slabs(LiFePO4, 2, 10, 10, bonds={(\"P\", \"O\"): 2})"
   ]
  },
  {
   "cell_type": "code",
   "execution_count": 109,
   "metadata": {
    "collapsed": false
   },
   "outputs": [
    {
     "name": "stdout",
     "output_type": "stream",
     "text": [
      "There is a total of 210 slabs generated including polar, asymmetric, and P-O terminated slabs\n",
      "(1, 0, 1)\n",
      "(1, 2, 1)\n",
      "Number of slabs that are nonpolar, symmetric and do not terminate P-O bonds: 2\n"
     ]
    }
   ],
   "source": [
    "print(\n",
    "    \"There is a total of %s slabs generated including polar, asymmetric, and \\\n",
    "P-O terminated slabs\"\n",
    "    % (len(all_slabs))\n",
    ")\n",
    "\n",
    "# store any slabs for calculation that satisfies our criterias\n",
    "valid_slabs = []\n",
    "for slab in all_slabs:\n",
    "    if not slab.is_polar() and slab.is_symmetric():\n",
    "        print(slab.miller_index)\n",
    "        valid_slabs.append(slab)\n",
    "\n",
    "print(\n",
    "    \"Number of slabs that are nonpolar, symmetric and do not terminate P-O bonds: %s\"\n",
    "    % (len(valid_slabs))\n",
    ")"
   ]
  }
 ],
 "metadata": {
  "kernelspec": {
   "display_name": "Python 3",
   "language": "python",
   "name": "python3"
  },
  "language_info": {
   "codemirror_mode": {
    "name": "ipython",
    "version": 3
   },
   "file_extension": ".py",
   "mimetype": "text/x-python",
   "name": "python",
   "nbconvert_exporter": "python",
   "pygments_lexer": "ipython3",
   "version": "3.6.0"
  }
 },
 "nbformat": 4,
 "nbformat_minor": 2
}
